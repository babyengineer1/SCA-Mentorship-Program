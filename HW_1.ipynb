{
  "cells": [
    {
      "metadata": {
        "nbgrader": {
          "grade": false,
          "locked": false,
          "solution": false
        }
      },
      "cell_type": "markdown",
      "source": "<font size=\"4\" style=\"color:red;\"> **IMPORTANT: ** Only modify cells which have the following comment</font>\n\n```python\n# modify this cell\n```\n\n<font style=\"color:red;\"> Do not add any new cells when submitting homework. For Docker users, to test out new code, use the coding **scratchpad** by clicking the triangular icon in the bottom right corner of the screen. (**hotkey:** control-B)  </font>\n\n"
    },
    {
      "metadata": {
        "nbgrader": {
          "grade": false,
          "locked": false,
          "solution": false
        }
      },
      "cell_type": "markdown",
      "source": "# Exercises:"
    },
    {
      "metadata": {
        "nbgrader": {
          "grade": false,
          "locked": false,
          "solution": false
        }
      },
      "cell_type": "markdown",
      "source": "**Note: ** Make sure you have read the *What is Probability?* notebook before attempting these exercises."
    },
    {
      "metadata": {
        "nbgrader": {
          "grade": false,
          "locked": false,
          "solution": false
        }
      },
      "cell_type": "markdown",
      "source": "In this excercise you will write code to estimate the probability that $n$ flips of a fair coin will result in number of `\"heads\"` between $k_1$ and $k_2$.\n\nYou should write the body of two functions:\n1. <code><font color=\"blue\">seq_sum</font>(n)</code>: generates a random sequence of coin flips and counts the number of heads.\n2. <code><font color=\"blue\">estimate_prob</font>(n,k1,k2,m)</code>: Using calls to `seq_sum`, estimate the probability of the number of heads being between $k_1$ and $k_2$. \n"
    },
    {
      "metadata": {
        "nbgrader": {
          "grade": false,
          "locked": false,
          "solution": false
        }
      },
      "cell_type": "markdown",
      "source": "### Notebook Setup:"
    },
    {
      "metadata": {
        "nbgrader": {
          "grade": false,
          "locked": false,
          "solution": false
        }
      },
      "cell_type": "markdown",
      "source": "The folowing magic command downloads many python packages like *numpy* and allows the notebooks to plot graphs with *matplotlib*. \n\n<font color=\"red\">**DO NOT**</font> import other packages. You already have all the packages you need.\n"
    },
    {
      "metadata": {
        "trusted": true
      },
      "cell_type": "code",
      "source": "%pylab inline\nimport numpy as np\nimport random",
      "execution_count": 1,
      "outputs": [
        {
          "output_type": "stream",
          "text": "Populating the interactive namespace from numpy and matplotlib\n",
          "name": "stdout"
        }
      ]
    },
    {
      "metadata": {},
      "cell_type": "markdown",
      "source": "Specifically, you can now use `np.random.rand(x)` which for some $x \\in N$ generates $x$ random numbers. You **will** use this command in your homework."
    },
    {
      "metadata": {
        "trusted": true
      },
      "cell_type": "code",
      "source": "np.random.rand()",
      "execution_count": 2,
      "outputs": [
        {
          "output_type": "execute_result",
          "execution_count": 2,
          "data": {
            "text/plain": "0.8077746551864243"
          },
          "metadata": {}
        }
      ]
    },
    {
      "metadata": {
        "trusted": true
      },
      "cell_type": "code",
      "source": "np.random.rand(4)",
      "execution_count": 3,
      "outputs": [
        {
          "output_type": "execute_result",
          "execution_count": 3,
          "data": {
            "text/plain": "array([0.78158731, 0.67038212, 0.20075513, 0.91436286])"
          },
          "metadata": {}
        }
      ]
    },
    {
      "metadata": {},
      "cell_type": "markdown",
      "source": "##  Exercise 1:\n\nWrite a function, <code><font color =\"blue\">seq_sum</font>(n)</code>, which generates $n$ random coin flips from a fair coin and then returns the number of heads. A fair coin is defined to be a coin where $P($heads$)=\\frac{1}{2}$ \n\nThe output type should be a numpy integer, **hint:** use `np.random.rand()` \n\n<font  style=\"color:blue\"> * **Code:** *</font>\n```python\nx = seq_sum(100)\nprint x\nprint [seq_sum(2) for x in range(20)]\n```\n\n\n<font  style=\"color:magenta\"> * **Output:** *</font>\n```\n49\n[0, 1, 1, 1, 1, 2, 1, 2, 1, 1, 0, 0, 2, 1, 1, 1, 0, 0, 1, 1]\n```"
    },
    {
      "metadata": {},
      "cell_type": "markdown",
      "source": "* Write your code for seq_sum in the cell below"
    },
    {
      "metadata": {
        "trusted": true
      },
      "cell_type": "code",
      "source": "# modify this cell\n\ndef seq_sum(n):\n    \"\"\" input: n, generate a sequence of n random coin flips\n        output: return the number of heads \n        Hint: For simplicity, use 1,0 to represent head,tails\n    \"\"\"\n    #\n    # YOUR CODE HERE\n    #\n    heads, tails = 0, 0\n    for i in range(n):\n        outcome = random.randint(0,1)\n        if outcome == 1:\n            heads += 1\n        else:\n            tails += 1        \n    return heads",
      "execution_count": 4,
      "outputs": []
    },
    {
      "metadata": {},
      "cell_type": "markdown",
      "source": "* if the following cell runs without error you receive some points."
    },
    {
      "metadata": {
        "nbgrader": {
          "grade": true,
          "grade_id": "ex1",
          "locked": true,
          "points": "5",
          "solution": false
        },
        "trusted": true
      },
      "cell_type": "code",
      "source": "# checking function \n\nx = seq_sum(100)\nprint(x)\nassert np.unique([seq_sum(2) for x in  range(0,200)]).tolist() == [0, 1, 2]\n\n#\n# AUTOGRADER TEST - DO NOT REMOVE\n#\n",
      "execution_count": 5,
      "outputs": [
        {
          "output_type": "stream",
          "text": "41\n",
          "name": "stdout"
        }
      ]
    },
    {
      "metadata": {},
      "cell_type": "markdown",
      "source": "## Exercise 2:\n\nWrite a function, <code><font color=\"blue\">estimate_prob</font>(n,k1,k2,m)</code>, that uses <code><font color=\"blue\">seq_sum</font>(n)</code> to estimate the following probability:\n\n$$ P(\\; k_1 <= \\text{number of heads in $n$ flips} < k_2 ) $$\n\nThe function should estimate the probability by running $m$ different trials of <code><font color=\"blue\">seq_sum</font>(n)</code>, probably using a *`for`* loop.\n\nIn order to receive full credit **estimate_prob** <font color=\"red\">MUST</font> call **seq_sum** (aka: seq_sum is located inside the **estimate_prob** function)\n\n<font  style=\"color:blue\"> * **Code:** *</font>\n```python\nx = estimate_prob(100,45,55,1000)\nprint(x)\nprint type(x)\n```\n\n<font  style=\"color:magenta\"> * **Output:** *</font>\n```\n0.686\n<type 'float'>\n```"
    },
    {
      "metadata": {
        "trusted": true
      },
      "cell_type": "code",
      "source": "# Modify this cell\n\ndef estimate_prob(n,k1,k2,m):\n    \"\"\"Estimate the probability that n flips of a fair coin result in k1 to k2 heads\n         n: the number of coin flips (length of the sequence)\n         k1,k2: the trial is successful if the number of heads is \n                between k1 and k2-1\n         m: the number of trials (number of sequences of length n)\n         \n         output: the estimated probability \n         \"\"\"\n    #\n    # YOUR CODE HERE\n    #\n    head = 0\n    for n in range(m):\n        x = seq_sum(n)\n        if x >= k1 and x < k2:\n            head += 1\n    \n    estimate_prob = head/m\n    return estimate_prob\n        \n        \n",
      "execution_count": 6,
      "outputs": []
    },
    {
      "metadata": {
        "trusted": true
      },
      "cell_type": "code",
      "source": "# this is a small sanity check\n# the true check for this function is further down\n\nx = estimate_prob(100,45,55,1000)\nprint(x)\nassert 'float' in str(type(x))",
      "execution_count": 7,
      "outputs": [
        {
          "output_type": "stream",
          "text": "0.018\n",
          "name": "stdout"
        }
      ]
    },
    {
      "metadata": {},
      "cell_type": "markdown",
      "source": "### Estimate vs. True Probability\n\nWe can now check how to see how close these estimates are to the true probabilities."
    },
    {
      "metadata": {},
      "cell_type": "markdown",
      "source": "### Helper Functions\n\nThese helper functions are used to calculate the actual probabilities. They are used to test your code.\n\nIt is not required that you understand how they work."
    },
    {
      "metadata": {
        "nbgrader": {
          "grade": false,
          "locked": true,
          "solution": false
        },
        "trusted": true
      },
      "cell_type": "code",
      "source": "def calc_prob(n,k1,k2):\n    \"\"\"Calculate the probability using a normal approximation\"\"\"\n    n=float(n);k1=float(k1);k2=float(k2)\n    z1=(k1-0.5*n)/(sqrt(n)/2)\n    z2=(k2-0.5*n)/(sqrt(n)/2)\n    return (erf(z2/sqrt(2))-erf(z1/sqrt(2)))/2\n\nfrom math import erf,sqrt\ndef evaluate(n,q1,q2,m,r=100):\n    \"\"\"Run calc_range many times and test whether the estimates are consistent with calc_prob\"\"\"\n    k1=int(q1*n)\n    k2=int(q2*n)\n    p=calc_prob(n,k1,k2)\n    std=sqrt(p*(1-p)/m)\n    print('computed prob=%5.3f, std=%5.3f'%(p,std))\n\n    L=[estimate_prob(n,k1,k2,m) for i in range(r)]\n    med=np.median(L)\n    print('ran estimator %d times, with parameters n=%d,k1=%d,k2=%d,m=%d'%(r,n,k1,k2,m))\n    print('median of estimates=%5.3f, error of median estimator=%5.3f, std= %f5.3'%(med,med-p,std))\n    return L,med,p,std,abs((med-p)/std)",
      "execution_count": 8,
      "outputs": []
    },
    {
      "metadata": {
        "nbgrader": {
          "grade": false,
          "locked": true,
          "solution": false
        },
        "trusted": true
      },
      "cell_type": "code",
      "source": "def test_report_assert(n,q1,q2,m,r=100):\n    k1=int(q1*n)\n    k2=int(q2*n)\n    L,med,p,std,norm_err=evaluate(n,q1,q2,m,r=100)\n    hist(L);\n    plot([p,p],plt.ylim(),'r',label='true prob')\n    plot([med,med],plt.ylim(),'k',label='median of %d estimates'%r)\n    mid_y=mean(plt.ylim())\n    plot([p-std,p+std],[mid_y,mid_y],'g',label='+-std')\n    legend();\n    print('normalized error of median=',norm_err,'should be <1.0')\n    title('r=%d,n=%d,k1=%d,k2=%d,m=%d,\\nnorm_err=%4.3f'%(r,n,k1,k2,m,norm_err))\n    assert norm_err<1.0",
      "execution_count": 9,
      "outputs": []
    },
    {
      "metadata": {},
      "cell_type": "markdown",
      "source": "### Testing your Functions"
    },
    {
      "metadata": {},
      "cell_type": "markdown",
      "source": "* We now test your functions. The graphs below show how close your estimated probability is to the true probability for various values of $k_1$ and $k_2$. You can see that your answer is never exactly the correct probability. \n* For full credit, the code below must run without error."
    },
    {
      "metadata": {
        "nbgrader": {
          "grade": true,
          "grade_id": "ex2",
          "locked": true,
          "points": "5",
          "solution": false
        },
        "trusted": true
      },
      "cell_type": "code",
      "source": "# checking functions\n\nm=100\ni=1\nfigure(figsize=[10,12])\nfor n in [100,1000]:\n    for q1,q2 in [(0.4,0.6),(0.55,1.00),(0.47,0.499)]:\n        fig=subplot(3,2,i)\n        print('#### test no.',i)\n        i+=1\n        test_report_assert(n,q1,q2,m,r=100)\ntight_layout()",
      "execution_count": 10,
      "outputs": [
        {
          "output_type": "stream",
          "text": "#### test no. 1\ncomputed prob=0.954, std=0.021\nran estimator 100 times, with parameters n=100,k1=40,k2=60,m=100\nmedian of estimates=0.200, error of median estimator=-0.754, std= 0.0208405.3\nnormalized error of median= 36.20463955650744 should be <1.0\n",
          "name": "stdout"
        },
        {
          "output_type": "error",
          "ename": "AssertionError",
          "evalue": "",
          "traceback": [
            "\u001b[0;31m---------------------------------------------------------------------------\u001b[0m",
            "\u001b[0;31mAssertionError\u001b[0m                            Traceback (most recent call last)",
            "\u001b[0;32m<ipython-input-10-479fcccfdbd9>\u001b[0m in \u001b[0;36m<module>\u001b[0;34m()\u001b[0m\n\u001b[1;32m      9\u001b[0m         \u001b[0mprint\u001b[0m\u001b[0;34m(\u001b[0m\u001b[0;34m'#### test no.'\u001b[0m\u001b[0;34m,\u001b[0m\u001b[0mi\u001b[0m\u001b[0;34m)\u001b[0m\u001b[0;34m\u001b[0m\u001b[0m\n\u001b[1;32m     10\u001b[0m         \u001b[0mi\u001b[0m\u001b[0;34m+=\u001b[0m\u001b[0;36m1\u001b[0m\u001b[0;34m\u001b[0m\u001b[0m\n\u001b[0;32m---> 11\u001b[0;31m         \u001b[0mtest_report_assert\u001b[0m\u001b[0;34m(\u001b[0m\u001b[0mn\u001b[0m\u001b[0;34m,\u001b[0m\u001b[0mq1\u001b[0m\u001b[0;34m,\u001b[0m\u001b[0mq2\u001b[0m\u001b[0;34m,\u001b[0m\u001b[0mm\u001b[0m\u001b[0;34m,\u001b[0m\u001b[0mr\u001b[0m\u001b[0;34m=\u001b[0m\u001b[0;36m100\u001b[0m\u001b[0;34m)\u001b[0m\u001b[0;34m\u001b[0m\u001b[0m\n\u001b[0m\u001b[1;32m     12\u001b[0m \u001b[0mtight_layout\u001b[0m\u001b[0;34m(\u001b[0m\u001b[0;34m)\u001b[0m\u001b[0;34m\u001b[0m\u001b[0m\n",
            "\u001b[0;32m<ipython-input-9-2dd50d59ad97>\u001b[0m in \u001b[0;36mtest_report_assert\u001b[0;34m(n, q1, q2, m, r)\u001b[0m\n\u001b[1;32m     11\u001b[0m     \u001b[0mprint\u001b[0m\u001b[0;34m(\u001b[0m\u001b[0;34m'normalized error of median='\u001b[0m\u001b[0;34m,\u001b[0m\u001b[0mnorm_err\u001b[0m\u001b[0;34m,\u001b[0m\u001b[0;34m'should be <1.0'\u001b[0m\u001b[0;34m)\u001b[0m\u001b[0;34m\u001b[0m\u001b[0m\n\u001b[1;32m     12\u001b[0m     \u001b[0mtitle\u001b[0m\u001b[0;34m(\u001b[0m\u001b[0;34m'r=%d,n=%d,k1=%d,k2=%d,m=%d,\\nnorm_err=%4.3f'\u001b[0m\u001b[0;34m%\u001b[0m\u001b[0;34m(\u001b[0m\u001b[0mr\u001b[0m\u001b[0;34m,\u001b[0m\u001b[0mn\u001b[0m\u001b[0;34m,\u001b[0m\u001b[0mk1\u001b[0m\u001b[0;34m,\u001b[0m\u001b[0mk2\u001b[0m\u001b[0;34m,\u001b[0m\u001b[0mm\u001b[0m\u001b[0;34m,\u001b[0m\u001b[0mnorm_err\u001b[0m\u001b[0;34m)\u001b[0m\u001b[0;34m)\u001b[0m\u001b[0;34m\u001b[0m\u001b[0m\n\u001b[0;32m---> 13\u001b[0;31m     \u001b[0;32massert\u001b[0m \u001b[0mnorm_err\u001b[0m\u001b[0;34m<\u001b[0m\u001b[0;36m1.0\u001b[0m\u001b[0;34m\u001b[0m\u001b[0m\n\u001b[0m",
            "\u001b[0;31mAssertionError\u001b[0m: "
          ]
        },
        {
          "output_type": "display_data",
          "data": {
            "image/png": "[encoded data removed]",
            "text/plain": "<matplotlib.figure.Figure at 0x7fbf8912cc50>"
          },
          "metadata": {}
        }
      ]
    },
    {
      "metadata": {
        "nbgrader": {
          "grade": true,
          "grade_id": "ex3",
          "locked": true,
          "points": "5",
          "solution": false
        },
        "trusted": true
      },
      "cell_type": "code",
      "source": "# checking functions \n\ndef seq_sum(n):\n    #Log.append(n)\n    s=sum(random.rand(n)>0.5)\n    Log.append((n,s))\n    return s\n\nn,k1,k2,m = 100,45,50,1000\nfor r in range(10):\n    Log=[]\n    a=estimate_prob(n,k1,k2,m)\n    b=float(sum([(s>=k1 and s<k2) for n,s in Log]))/m\n    n_correct=sum(nn==100 for nn,s in Log)\n    assert a==b, \"estimate is incorrect. should be %4f, instead is %4f\"%(b,a)\n    assert m==len(Log), 'should call seq_sum %d times, called it %d times'%(m,len(Log))\n    assert m==n_correct, 'the parameter n should be %d but sometimes it was not.'%n\n    \nprint(\"all good!\")",
      "execution_count": 11,
      "outputs": [
        {
          "output_type": "error",
          "ename": "AttributeError",
          "evalue": "module 'random' has no attribute 'rand'",
          "traceback": [
            "\u001b[0;31m---------------------------------------------------------------------------\u001b[0m",
            "\u001b[0;31mAttributeError\u001b[0m                            Traceback (most recent call last)",
            "\u001b[0;32m<ipython-input-11-68e391575a25>\u001b[0m in \u001b[0;36m<module>\u001b[0;34m()\u001b[0m\n\u001b[1;32m     10\u001b[0m \u001b[0;32mfor\u001b[0m \u001b[0mr\u001b[0m \u001b[0;32min\u001b[0m \u001b[0mrange\u001b[0m\u001b[0;34m(\u001b[0m\u001b[0;36m10\u001b[0m\u001b[0;34m)\u001b[0m\u001b[0;34m:\u001b[0m\u001b[0;34m\u001b[0m\u001b[0m\n\u001b[1;32m     11\u001b[0m     \u001b[0mLog\u001b[0m\u001b[0;34m=\u001b[0m\u001b[0;34m[\u001b[0m\u001b[0;34m]\u001b[0m\u001b[0;34m\u001b[0m\u001b[0m\n\u001b[0;32m---> 12\u001b[0;31m     \u001b[0ma\u001b[0m\u001b[0;34m=\u001b[0m\u001b[0mestimate_prob\u001b[0m\u001b[0;34m(\u001b[0m\u001b[0mn\u001b[0m\u001b[0;34m,\u001b[0m\u001b[0mk1\u001b[0m\u001b[0;34m,\u001b[0m\u001b[0mk2\u001b[0m\u001b[0;34m,\u001b[0m\u001b[0mm\u001b[0m\u001b[0;34m)\u001b[0m\u001b[0;34m\u001b[0m\u001b[0m\n\u001b[0m\u001b[1;32m     13\u001b[0m     \u001b[0mb\u001b[0m\u001b[0;34m=\u001b[0m\u001b[0mfloat\u001b[0m\u001b[0;34m(\u001b[0m\u001b[0msum\u001b[0m\u001b[0;34m(\u001b[0m\u001b[0;34m[\u001b[0m\u001b[0;34m(\u001b[0m\u001b[0ms\u001b[0m\u001b[0;34m>=\u001b[0m\u001b[0mk1\u001b[0m \u001b[0;32mand\u001b[0m \u001b[0ms\u001b[0m\u001b[0;34m<\u001b[0m\u001b[0mk2\u001b[0m\u001b[0;34m)\u001b[0m \u001b[0;32mfor\u001b[0m \u001b[0mn\u001b[0m\u001b[0;34m,\u001b[0m\u001b[0ms\u001b[0m \u001b[0;32min\u001b[0m \u001b[0mLog\u001b[0m\u001b[0;34m]\u001b[0m\u001b[0;34m)\u001b[0m\u001b[0;34m)\u001b[0m\u001b[0;34m/\u001b[0m\u001b[0mm\u001b[0m\u001b[0;34m\u001b[0m\u001b[0m\n\u001b[1;32m     14\u001b[0m     \u001b[0mn_correct\u001b[0m\u001b[0;34m=\u001b[0m\u001b[0msum\u001b[0m\u001b[0;34m(\u001b[0m\u001b[0mnn\u001b[0m\u001b[0;34m==\u001b[0m\u001b[0;36m100\u001b[0m \u001b[0;32mfor\u001b[0m \u001b[0mnn\u001b[0m\u001b[0;34m,\u001b[0m\u001b[0ms\u001b[0m \u001b[0;32min\u001b[0m \u001b[0mLog\u001b[0m\u001b[0;34m)\u001b[0m\u001b[0;34m\u001b[0m\u001b[0m\n",
            "\u001b[0;32m<ipython-input-6-152116b3bc71>\u001b[0m in \u001b[0;36mestimate_prob\u001b[0;34m(n, k1, k2, m)\u001b[0m\n\u001b[1;32m     15\u001b[0m     \u001b[0mhead\u001b[0m \u001b[0;34m=\u001b[0m \u001b[0;36m0\u001b[0m\u001b[0;34m\u001b[0m\u001b[0m\n\u001b[1;32m     16\u001b[0m     \u001b[0;32mfor\u001b[0m \u001b[0mn\u001b[0m \u001b[0;32min\u001b[0m \u001b[0mrange\u001b[0m\u001b[0;34m(\u001b[0m\u001b[0mm\u001b[0m\u001b[0;34m)\u001b[0m\u001b[0;34m:\u001b[0m\u001b[0;34m\u001b[0m\u001b[0m\n\u001b[0;32m---> 17\u001b[0;31m         \u001b[0mx\u001b[0m \u001b[0;34m=\u001b[0m \u001b[0mseq_sum\u001b[0m\u001b[0;34m(\u001b[0m\u001b[0mn\u001b[0m\u001b[0;34m)\u001b[0m\u001b[0;34m\u001b[0m\u001b[0m\n\u001b[0m\u001b[1;32m     18\u001b[0m         \u001b[0;32mif\u001b[0m \u001b[0mx\u001b[0m \u001b[0;34m>=\u001b[0m \u001b[0mk1\u001b[0m \u001b[0;32mand\u001b[0m \u001b[0mx\u001b[0m \u001b[0;34m<\u001b[0m \u001b[0mk2\u001b[0m\u001b[0;34m:\u001b[0m\u001b[0;34m\u001b[0m\u001b[0m\n\u001b[1;32m     19\u001b[0m             \u001b[0mhead\u001b[0m \u001b[0;34m+=\u001b[0m \u001b[0;36m1\u001b[0m\u001b[0;34m\u001b[0m\u001b[0m\n",
            "\u001b[0;32m<ipython-input-11-68e391575a25>\u001b[0m in \u001b[0;36mseq_sum\u001b[0;34m(n)\u001b[0m\n\u001b[1;32m      3\u001b[0m \u001b[0;32mdef\u001b[0m \u001b[0mseq_sum\u001b[0m\u001b[0;34m(\u001b[0m\u001b[0mn\u001b[0m\u001b[0;34m)\u001b[0m\u001b[0;34m:\u001b[0m\u001b[0;34m\u001b[0m\u001b[0m\n\u001b[1;32m      4\u001b[0m     \u001b[0;31m#Log.append(n)\u001b[0m\u001b[0;34m\u001b[0m\u001b[0;34m\u001b[0m\u001b[0m\n\u001b[0;32m----> 5\u001b[0;31m     \u001b[0ms\u001b[0m\u001b[0;34m=\u001b[0m\u001b[0msum\u001b[0m\u001b[0;34m(\u001b[0m\u001b[0mrandom\u001b[0m\u001b[0;34m.\u001b[0m\u001b[0mrand\u001b[0m\u001b[0;34m(\u001b[0m\u001b[0mn\u001b[0m\u001b[0;34m)\u001b[0m\u001b[0;34m>\u001b[0m\u001b[0;36m0.5\u001b[0m\u001b[0;34m)\u001b[0m\u001b[0;34m\u001b[0m\u001b[0m\n\u001b[0m\u001b[1;32m      6\u001b[0m     \u001b[0mLog\u001b[0m\u001b[0;34m.\u001b[0m\u001b[0mappend\u001b[0m\u001b[0;34m(\u001b[0m\u001b[0;34m(\u001b[0m\u001b[0mn\u001b[0m\u001b[0;34m,\u001b[0m\u001b[0ms\u001b[0m\u001b[0;34m)\u001b[0m\u001b[0;34m)\u001b[0m\u001b[0;34m\u001b[0m\u001b[0m\n\u001b[1;32m      7\u001b[0m     \u001b[0;32mreturn\u001b[0m \u001b[0ms\u001b[0m\u001b[0;34m\u001b[0m\u001b[0m\n",
            "\u001b[0;31mAttributeError\u001b[0m: module 'random' has no attribute 'rand'"
          ]
        }
      ]
    },
    {
      "metadata": {
        "trusted": true
      },
      "cell_type": "code",
      "source": "\n\n\n\n\n",
      "execution_count": null,
      "outputs": []
    },
    {
      "metadata": {
        "trusted": true
      },
      "cell_type": "code",
      "source": "",
      "execution_count": null,
      "outputs": []
    }
  ],
  "metadata": {
    "kernelspec": {
      "name": "python3",
      "display_name": "Python 3",
      "language": "python"
    },
    "language_info": {
      "mimetype": "text/x-python",
      "nbconvert_exporter": "python",
      "name": "python",
      "file_extension": ".py",
      "version": "3.5.4",
      "pygments_lexer": "ipython3",
      "codemirror_mode": {
        "version": 3,
        "name": "ipython"
      }
    },
    "latex_envs": {
      "LaTeX_envs_menu_present": true,
      "autoclose": false,
      "autocomplete": true,
      "bibliofile": "biblio.bib",
      "cite_by": "apalike",
      "current_citInitial": 1,
      "eqLabelWithNumbers": true,
      "eqNumInitial": 1,
      "hotkeys": {
        "equation": "Ctrl-E",
        "itemize": "Ctrl-I"
      },
      "labels_anchors": false,
      "latex_user_defs": false,
      "report_style_numbering": false,
      "user_envs_cfg": false
    },
    "toc": {
      "colors": {
        "hover_highlight": "#DAA520",
        "navigate_num": "#000000",
        "navigate_text": "#333333",
        "running_highlight": "#FF0000",
        "selected_highlight": "#FFD700",
        "sidebar_border": "#EEEEEE",
        "wrapper_background": "#FFFFFF"
      },
      "moveMenuLeft": true,
      "nav_menu": {
        "height": "138px",
        "width": "252px"
      },
      "navigate_menu": true,
      "number_sections": true,
      "sideBar": true,
      "threshold": 4,
      "toc_cell": false,
      "toc_section_display": "block",
      "toc_window_display": false,
      "widenNotebook": false
    },
    "varInspector": {
      "cols": {
        "lenName": 16,
        "lenType": 16,
        "lenVar": 40
      },
      "kernels_config": {
        "python": {
          "delete_cmd_postfix": "",
          "delete_cmd_prefix": "del ",
          "library": "var_list.py",
          "varRefreshCmd": "print(var_dic_list())"
        },
        "r": {
          "delete_cmd_postfix": ") ",
          "delete_cmd_prefix": "rm(",
          "library": "var_list.r",
          "varRefreshCmd": "cat(var_dic_list()) "
        }
      },
      "types_to_exclude": [
        "module",
        "function",
        "builtin_function_or_method",
        "instance",
        "_Feature"
      ],
      "window_display": false
    }
  },
  "nbformat": 4,
  "nbformat_minor": 2
}